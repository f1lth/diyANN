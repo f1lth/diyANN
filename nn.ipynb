{
  "cells": [
    {
      "cell_type": "markdown",
      "metadata": {
        "id": "VRLNrFDU3dKp"
      },
      "source": [
        "### Multilayer Perceptron (FF net w/ gradient descent)\n"
      ],
      "id": "VRLNrFDU3dKp"
    },
    {
      "cell_type": "code",
      "execution_count": 1,
      "metadata": {
        "id": "b7e6a263"
      },
      "outputs": [],
      "source": [
        "import torch\n",
        "import numpy as np\n",
        "import matplotlib.pyplot as plt\n",
        "from torchvision.datasets import MNIST"
      ],
      "id": "b7e6a263"
    },
    {
      "cell_type": "code",
      "execution_count": 2,
      "metadata": {
        "colab": {
          "base_uri": "https://localhost:8080/"
        },
        "id": "eKE_KANU7_sq",
        "outputId": "caa65ec7-f1fc-494d-9c61-3428c23a7fb1"
      },
      "outputs": [
        {
          "output_type": "execute_result",
          "data": {
            "text/plain": [
              "device(type='cuda')"
            ]
          },
          "metadata": {},
          "execution_count": 2
        }
      ],
      "source": [
        "device = torch.device('cuda' if torch.cuda.is_available() else 'cpu')\n",
        "device"
      ],
      "id": "eKE_KANU7_sq"
    },
    {
      "cell_type": "code",
      "execution_count": 3,
      "metadata": {
        "id": "9a5cbc46"
      },
      "outputs": [],
      "source": [
        "# build the dataset (train, validation and test)\n",
        "def load_MNIST(n_val=10000, n_sample=1000, sample=False):\n",
        "    n_val = n_val\n",
        "    n_sample = n_sample\n",
        "    train = MNIST(root = '.', train = True, download = True)\n",
        "    test = MNIST(root = '.', train = False, download = True)\n",
        "    \n",
        "    # data preprocessing\n",
        "    x_train, x_test = train.data/255, test.data/255\n",
        "    x_train = x_train.reshape(x_train.shape[0], -1)\n",
        "    x_test = x_test.reshape(x_test.shape[0], -1)\n",
        "    y_train = torch.nn.functional.one_hot(train.targets)\n",
        "    y_test = torch.nn.functional.one_hot(test.targets)\n",
        "\n",
        "    data_dict = {}\n",
        "    if sample:\n",
        "        data_dict['x_train'] = x_train[:-n_val][:n_sample]\n",
        "        data_dict['y_train'] = y_train[:-n_val][:n_sample]\n",
        "        data_dict['x_val'] = x_train[-n_val:][:n_sample//10]\n",
        "        data_dict['y_val'] = y_train[-n_val:][:n_sample//10]\n",
        "        data_dict['x_test'] = x_test[:n_sample//10]\n",
        "        data_dict['y_test'] = y_test[:n_sample//10]\n",
        "    else:\n",
        "        data_dict['x_train'] = x_train[:-n_val]\n",
        "        data_dict['y_train'] = y_train[:-n_val]\n",
        "        data_dict['x_val'] = x_train[-n_val:]\n",
        "        data_dict['y_val'] = y_train[-n_val:]\n",
        "        data_dict['x_test'] = x_test\n",
        "        data_dict['y_test'] = y_test\n",
        "    return data_dict"
      ],
      "id": "9a5cbc46"
    },
    {
      "cell_type": "code",
      "execution_count": 4,
      "metadata": {
        "colab": {
          "base_uri": "https://localhost:8080/",
          "height": 540,
          "referenced_widgets": [
            "d7bc39774cbf443db32fc6580a153dd6",
            "1416521262da4bec8ddeee3c2751f17e",
            "eec33af398be4ab8a9921e8cb8557d60",
            "2e839414773748b291dbefd060fcea2b",
            "c520994ece5046be919e40deb0d5169e",
            "e08982a9f3904b97aa0f9700a4b3f4b9",
            "0943925994ff41d8b8534af3f3350dec",
            "933ad6a0810d492184eabbbfd29cd0b2",
            "ba492b95d3644ae5aa24bc8ddd96c1c4",
            "75bb01e525534297bc92b264fef6850a",
            "3971587556a14313a26cad3eda10fea0",
            "66262ef298bd415888afc8d7ce9e1057",
            "858efc11b1e543a382de34190b41de18",
            "e1e63d27195547e589ef9d3c3573d48d",
            "2cc465e3a07149d7b7f53eed83dd876f",
            "7e051be82eac4cfc8ee4ab8de5539c83",
            "582960f1281d4204ab6d874cfdc62730",
            "f3ba7bd0a8d94afda7f6bf2b0879cef5",
            "8ba74cae827540a080727d8f43a5115d",
            "777186e599884f659d7579083d520f15",
            "8a4ee42077974f23abf5d9c98d345552",
            "ba98737afde24805b000939840b1c985",
            "73bd439cc4c54ae782943110cf77c5ff",
            "be3c63fc91ff4b71a64f3e2c57a051d7",
            "1f93701dad8e40cc8545aead23920f26",
            "1ce1b471ce264e16a678ec63dee581fd",
            "d639c2d20d484fcbab3edc013f8db582",
            "400d11bf8a644da5865e1765c899f66c",
            "f6188d8e3e9144328179efd2666be4b5",
            "02366090fc144e7aa3bb1c7b15817b99",
            "df261f6be1cc4508bb53fb3748bb5069",
            "ccfc5dce17a841a9a0e0759a178b5631",
            "3aae2758dd47402db597333530ccba2f",
            "174ae835d56f4dbdbf482aaedade9624",
            "ff53f7202ac847f0bb8093cb30cd9150",
            "566ad1c42e8042d1b0d307344dc3948d",
            "557581fa8d4a496a88a4cbb5f60a0fed",
            "fe4c1a2501594b199c07d47bf97080a2",
            "bd4ad45c623747b4a64cad8e370db1cd",
            "2b2d6c2df6904b56840cd851de436fe4",
            "cbe97d2cc61b45c393afe6dbbde9d90d",
            "405f86d392a94153abd9e64a0b32d1f3",
            "2b85fb3114c84892863cee5f62c8fdbe",
            "dd11658f0cb242d290b88c6ef9093e02"
          ]
        },
        "id": "Q5G-vmpD21Bj",
        "outputId": "f910511e-e504-44a6-a12a-b2ac1039a475"
      },
      "outputs": [
        {
          "output_type": "stream",
          "name": "stdout",
          "text": [
            "Downloading http://yann.lecun.com/exdb/mnist/train-images-idx3-ubyte.gz\n",
            "Downloading http://yann.lecun.com/exdb/mnist/train-images-idx3-ubyte.gz to ./MNIST/raw/train-images-idx3-ubyte.gz\n"
          ]
        },
        {
          "output_type": "display_data",
          "data": {
            "text/plain": [
              "  0%|          | 0/9912422 [00:00<?, ?it/s]"
            ],
            "application/vnd.jupyter.widget-view+json": {
              "version_major": 2,
              "version_minor": 0,
              "model_id": "d7bc39774cbf443db32fc6580a153dd6"
            }
          },
          "metadata": {}
        },
        {
          "output_type": "stream",
          "name": "stdout",
          "text": [
            "Extracting ./MNIST/raw/train-images-idx3-ubyte.gz to ./MNIST/raw\n",
            "\n",
            "Downloading http://yann.lecun.com/exdb/mnist/train-labels-idx1-ubyte.gz\n",
            "Downloading http://yann.lecun.com/exdb/mnist/train-labels-idx1-ubyte.gz to ./MNIST/raw/train-labels-idx1-ubyte.gz\n"
          ]
        },
        {
          "output_type": "display_data",
          "data": {
            "text/plain": [
              "  0%|          | 0/28881 [00:00<?, ?it/s]"
            ],
            "application/vnd.jupyter.widget-view+json": {
              "version_major": 2,
              "version_minor": 0,
              "model_id": "66262ef298bd415888afc8d7ce9e1057"
            }
          },
          "metadata": {}
        },
        {
          "output_type": "stream",
          "name": "stdout",
          "text": [
            "Extracting ./MNIST/raw/train-labels-idx1-ubyte.gz to ./MNIST/raw\n",
            "\n",
            "Downloading http://yann.lecun.com/exdb/mnist/t10k-images-idx3-ubyte.gz\n",
            "Downloading http://yann.lecun.com/exdb/mnist/t10k-images-idx3-ubyte.gz to ./MNIST/raw/t10k-images-idx3-ubyte.gz\n"
          ]
        },
        {
          "output_type": "display_data",
          "data": {
            "text/plain": [
              "  0%|          | 0/1648877 [00:00<?, ?it/s]"
            ],
            "application/vnd.jupyter.widget-view+json": {
              "version_major": 2,
              "version_minor": 0,
              "model_id": "73bd439cc4c54ae782943110cf77c5ff"
            }
          },
          "metadata": {}
        },
        {
          "output_type": "stream",
          "name": "stdout",
          "text": [
            "Extracting ./MNIST/raw/t10k-images-idx3-ubyte.gz to ./MNIST/raw\n",
            "\n",
            "Downloading http://yann.lecun.com/exdb/mnist/t10k-labels-idx1-ubyte.gz\n",
            "Downloading http://yann.lecun.com/exdb/mnist/t10k-labels-idx1-ubyte.gz to ./MNIST/raw/t10k-labels-idx1-ubyte.gz\n"
          ]
        },
        {
          "output_type": "display_data",
          "data": {
            "text/plain": [
              "  0%|          | 0/4542 [00:00<?, ?it/s]"
            ],
            "application/vnd.jupyter.widget-view+json": {
              "version_major": 2,
              "version_minor": 0,
              "model_id": "174ae835d56f4dbdbf482aaedade9624"
            }
          },
          "metadata": {}
        },
        {
          "output_type": "stream",
          "name": "stdout",
          "text": [
            "Extracting ./MNIST/raw/t10k-labels-idx1-ubyte.gz to ./MNIST/raw\n",
            "\n",
            "Train data shape: torch.Size([50000, 784])\n",
            "Train labels shape: torch.Size([50000, 10])\n",
            "Validation data shape: torch.Size([10000, 784])\n",
            "Validation labels shape: torch.Size([10000, 10])\n",
            "Test data shape: torch.Size([10000, 784])\n",
            "Test labels shape: torch.Size([10000, 10])\n"
          ]
        }
      ],
      "source": [
        "# you can start with a small sample dataset by setting sample=True\n",
        "data_dict = load_MNIST(sample=False)\n",
        "print('Train data shape:', data_dict['x_train'].shape)\n",
        "print('Train labels shape:', data_dict['y_train'].shape)\n",
        "print('Validation data shape:', data_dict['x_val'].shape)\n",
        "print('Validation labels shape:', data_dict['y_val'].shape)\n",
        "print('Test data shape:', data_dict['x_test'].shape)\n",
        "print('Test labels shape:', data_dict['y_test'].shape)"
      ],
      "id": "Q5G-vmpD21Bj"
    },
    {
      "cell_type": "code",
      "execution_count": 5,
      "metadata": {
        "colab": {
          "base_uri": "https://localhost:8080/",
          "height": 281
        },
        "id": "1aa9f016",
        "outputId": "431cceb9-c723-48eb-8798-062c4166414a",
        "scrolled": false
      },
      "outputs": [
        {
          "output_type": "display_data",
          "data": {
            "text/plain": [
              "<Figure size 432x288 with 1 Axes>"
            ],
            "image/png": "[encoded data removed]"
          },
          "metadata": {
            "needs_background": "light"
          }
        }
      ],
      "source": [
        "# plot an example\n",
        "plt.imshow(data_dict['x_train'][0].reshape(28, 28))\n",
        "plt.title(data_dict['y_train'][0].argmax().item())\n",
        "plt.show()"
      ],
      "id": "1aa9f016"
    },
    {
      "cell_type": "code",
      "execution_count": 6,
      "metadata": {
        "id": "6291c647"
      },
      "outputs": [],
      "source": [
        "def evaluator(y_test, y_pred, from_torch=False):\n",
        "    # define functions for the confision matrix, accuracy, precision, recall and f1\n",
        "\n",
        "    def confusion_matrix(y_test, y_pred):\n",
        "      cm = torch.zeros(2, 2)\n",
        "      for i in range(2):\n",
        "          for j in range(2):\n",
        "              cm[i, j] = torch.sum((y_test == i) & (y_pred == j))\n",
        "      return cm\n",
        "\n",
        "    def confusion_matrix_from_torch(y_test, y_pred):\n",
        "      print(y_test, y_pred)\n",
        "    \n",
        "    def accuracy(y_test, y_pred):\n",
        "      cm = confusion_matrix(y_test, y_pred)\n",
        "      acc = torch.sum(torch.diag(cm))/torch.sum(cm)\n",
        "      return acc\n",
        "        \n",
        "    def precision(y_test, y_pred):\n",
        "      cm = confusion_matrix(y_test, y_pred)\n",
        "      tp = cm[1, 1]\n",
        "      fp = cm[0, 1]\n",
        "      return tp/(tp+fp)\n",
        "\n",
        "    def recall(y_test, y_pred):\n",
        "      cm = confusion_matrix(y_test, y_pred)\n",
        "      tp = cm[1, 1]\n",
        "      fn = cm[1, 0]\n",
        "      return tp/(tp+fn)\n",
        "\n",
        "    def f1(y_test, y_pred):\n",
        "      prec = precision(y_test, y_pred)\n",
        "      rec = recall(y_test, y_pred)\n",
        "      f1 = 2*prec*rec/(prec+rec)\n",
        "      return f1\n",
        "\n",
        "    # evaluate the model \n",
        "    if not from_torch:\n",
        "      cm = confusion_matrix(y_test, y_pred)\n",
        "    else:\n",
        "      cm = confusion_matrix_from_torch(y_test,y_pred)\n",
        "    cm = confusion_matrix(y_test, y_pred)\n",
        "    a  = accuracy(y_test, y_pred)\n",
        "    p  = precision(y_test, y_pred)\n",
        "    r  = recall(y_test, y_pred)\n",
        "    f1 = f1(y_test, y_pred)\n",
        "    # print the results\n",
        "    print('Confusion Matrix:\\n', cm)\n",
        "    print('Accuracy: {:.3f}'.format(a))\n",
        "    print('Precision: {:.3f}'.format(p))\n",
        "    print('Recall: {:.3f}'.format(r))\n",
        "    print('F1: {:.3f}'.format(f1))\n",
        "\n",
        "####################################################################################################"
      ],
      "id": "6291c647"
    },
    {
      "cell_type": "markdown",
      "metadata": {
        "id": "4e4a6b06"
      },
      "source": [
        "## Part 1"
      ],
      "id": "4e4a6b06"
    },
    {
      "cell_type": "code",
      "execution_count": 8,
      "metadata": {
        "id": "a0d3fc2d"
      },
      "outputs": [],
      "source": [
        "class NN(object):\n",
        "    def __init__(self, learning_rate, n_iters, batch_size, hidden_size, device, dtype=torch.float32):\n",
        "        self.learning_rate = learning_rate\n",
        "        self.n_iters = n_iters\n",
        "        self.batch_size = batch_size\n",
        "        self.hidden_size = hidden_size\n",
        "        self.device = device\n",
        "        self.dtype = dtype\n",
        "        self.history = {}\n",
        "        self.history['train_acc'], self.history['val_acc'], self.history['loss'] = [], [], []\n",
        "    \n",
        "    # 5. activation function\n",
        "    def sigmoid(self, x):\n",
        "        ####################################################################################################\n",
        "        return 1 / (1 + torch.exp(-x))\n",
        "        ####################################################################################################\n",
        "\n",
        "    def train(self, x, y, x_val, y_val, verbose=1):\n",
        "        n_train = x.shape[0]\n",
        "        n_val = x_val.shape[0]\n",
        "        input_size = x.shape[1]\n",
        "        num_classes = y.shape[1]\n",
        "        \n",
        "        # weight initialization\n",
        "        self.W1 = torch.randn(input_size, self.hidden_size, dtype=self.dtype, device=self.device) * 0.01\n",
        "        self.W2 = torch.randn(self.hidden_size, num_classes, dtype=self.dtype, device=self.device) * 0.01\n",
        "\n",
        "        # train the weights with the input data and labels\n",
        "        for i in range(self.n_iters):\n",
        "            loss = 0\n",
        "\n",
        "            data = getBatch(x, y, self.batch_size)\n",
        "            for x_batch, y_batch in data:\n",
        " \n",
        "                # 1. forward\n",
        "                ####################################################################################################\n",
        "                hidden = self.sigmoid(x_batch @ self.W1)\n",
        "                output = self.sigmoid(hidden @ self.W2)\n",
        "                ####################################################################################################\n",
        "                # 2. error and loss\n",
        "                ####################################################################################################\n",
        "                output_error = y_batch - output\n",
        "                loss += torch.sum(output_error ** 2)\n",
        "                delta_output = output_error * output * (1 - output)\n",
        "                delta_hidden = (delta_output @ self.W2.T) * hidden * (1 - hidden)\n",
        "                ####################################################################################################\n",
        "                # 3. backward\n",
        "                ####################################################################################################\n",
        "                self.W2 += self.learning_rate * (hidden.T @ delta_output)\n",
        "                self.W1 += self.learning_rate * (x_batch.T @ delta_hidden)\n",
        "                ####################################################################################################\n",
        "\n",
        "            # calculate the accuracy and save the training history\n",
        "            y_pred = self.predict(x)\n",
        "            train_acc = torch.sum(torch.argmax(y, dim=1) == y_pred) / n_train\n",
        "            self.history['train_acc'].append(train_acc)\n",
        "            self.history['loss'].append(loss)\n",
        "            \n",
        "            y_pred = self.predict(x_val)\n",
        "            val_acc = torch.sum(torch.argmax(y_val, dim=1) == y_pred) / n_val\n",
        "            self.history['val_acc'].append(val_acc)\n",
        "            if verbose:\n",
        "                print('epoch %d, loss %.4f, train acc %.3f, validation acc %.3f'\n",
        "                  % (i + 1, loss, train_acc, val_acc))\n",
        "     \n",
        "    def predict(self, x):\n",
        "        # use the trained weights to predict labels and return the predicted labels\n",
        "        \n",
        "        hidden = self.sigmoid(x @ self.W1)\n",
        "        output = self.sigmoid(hidden @ self.W2)\n",
        "        return torch.argmax(output, dim=1)\n",
        "\n",
        "def getBatch(x, y, batch_size):\n",
        "    n_epoch = x.shape[0] // batch_size\n",
        "    for i in range(n_epoch):\n",
        "        x_batch = x[i * batch_size : (i+1) * batch_size]\n",
        "        y_batch = y[i * batch_size : (i+1) * batch_size]\n",
        "        yield x_batch, y_batch\n",
        "    x_batch = x[(i+1) * batch_size:]\n",
        "    y_batch = y[(i+1) * batch_size:]    \n",
        "    yield x_batch, y_batch"
      ],
      "id": "a0d3fc2d"
    },
    {
      "cell_type": "code",
      "execution_count": 9,
      "metadata": {
        "id": "74e9819c",
        "colab": {
          "base_uri": "https://localhost:8080/"
        },
        "outputId": "e580d0fd-805f-45cb-d913-10c5a41f4f6b"
      },
      "outputs": [
        {
          "output_type": "stream",
          "name": "stdout",
          "text": [
            "epoch 1, loss 38690.0117, train acc 0.672, validation acc 0.689\n",
            "epoch 2, loss 17180.3984, train acc 0.880, validation acc 0.894\n",
            "epoch 3, loss 10429.4648, train acc 0.902, validation acc 0.912\n",
            "epoch 4, loss 8467.1621, train acc 0.912, validation acc 0.920\n",
            "epoch 5, loss 7536.0674, train acc 0.918, validation acc 0.925\n",
            "epoch 6, loss 6945.4731, train acc 0.924, validation acc 0.930\n",
            "epoch 7, loss 6516.0659, train acc 0.928, validation acc 0.933\n",
            "epoch 8, loss 6178.3604, train acc 0.932, validation acc 0.936\n",
            "epoch 9, loss 5899.7583, train acc 0.935, validation acc 0.939\n",
            "epoch 10, loss 5662.8672, train acc 0.937, validation acc 0.940\n",
            "epoch 11, loss 5457.3232, train acc 0.939, validation acc 0.943\n",
            "epoch 12, loss 5276.3374, train acc 0.941, validation acc 0.944\n",
            "epoch 13, loss 5115.0698, train acc 0.943, validation acc 0.945\n",
            "epoch 14, loss 4969.9419, train acc 0.945, validation acc 0.947\n",
            "epoch 15, loss 4838.2710, train acc 0.947, validation acc 0.949\n",
            "epoch 16, loss 4718.0107, train acc 0.948, validation acc 0.951\n",
            "epoch 17, loss 4607.5586, train acc 0.950, validation acc 0.952\n",
            "epoch 18, loss 4505.6426, train acc 0.951, validation acc 0.952\n",
            "epoch 19, loss 4411.2070, train acc 0.952, validation acc 0.953\n",
            "epoch 20, loss 4323.3960, train acc 0.953, validation acc 0.955\n",
            "epoch 21, loss 4241.4980, train acc 0.954, validation acc 0.955\n",
            "epoch 22, loss 4164.9116, train acc 0.955, validation acc 0.956\n",
            "epoch 23, loss 4093.0830, train acc 0.956, validation acc 0.957\n",
            "epoch 24, loss 4025.4863, train acc 0.957, validation acc 0.957\n",
            "epoch 25, loss 3961.6516, train acc 0.958, validation acc 0.958\n",
            "epoch 26, loss 3901.1475, train acc 0.958, validation acc 0.958\n",
            "epoch 27, loss 3843.6279, train acc 0.959, validation acc 0.959\n",
            "epoch 28, loss 3788.7954, train acc 0.960, validation acc 0.958\n",
            "epoch 29, loss 3736.4048, train acc 0.961, validation acc 0.959\n",
            "epoch 30, loss 3686.2583, train acc 0.961, validation acc 0.959\n",
            "epoch 31, loss 3638.1753, train acc 0.962, validation acc 0.959\n",
            "epoch 32, loss 3592.0005, train acc 0.962, validation acc 0.959\n",
            "epoch 33, loss 3547.6101, train acc 0.963, validation acc 0.960\n",
            "epoch 34, loss 3504.8867, train acc 0.963, validation acc 0.960\n",
            "epoch 35, loss 3463.7222, train acc 0.964, validation acc 0.961\n",
            "epoch 36, loss 3424.0278, train acc 0.964, validation acc 0.961\n",
            "epoch 37, loss 3385.7222, train acc 0.965, validation acc 0.961\n",
            "epoch 38, loss 3348.7346, train acc 0.965, validation acc 0.962\n",
            "epoch 39, loss 3313.0039, train acc 0.966, validation acc 0.962\n",
            "epoch 40, loss 3278.4729, train acc 0.966, validation acc 0.963\n",
            "epoch 41, loss 3245.0869, train acc 0.966, validation acc 0.963\n",
            "epoch 42, loss 3212.7922, train acc 0.967, validation acc 0.963\n",
            "epoch 43, loss 3181.5437, train acc 0.967, validation acc 0.963\n",
            "epoch 44, loss 3151.2871, train acc 0.967, validation acc 0.963\n",
            "epoch 45, loss 3121.9775, train acc 0.967, validation acc 0.963\n",
            "epoch 46, loss 3093.5635, train acc 0.968, validation acc 0.963\n",
            "epoch 47, loss 3065.9963, train acc 0.968, validation acc 0.963\n",
            "epoch 48, loss 3039.2319, train acc 0.968, validation acc 0.963\n",
            "epoch 49, loss 3013.2219, train acc 0.969, validation acc 0.963\n",
            "epoch 50, loss 2987.9312, train acc 0.969, validation acc 0.964\n"
          ]
        }
      ],
      "source": [
        "\n",
        "####################################################################################################\n",
        "# enter code here to train Model1\n",
        "# TODO: set your desired hidden size, learning rate, number of iterations and batch size\n",
        "# remeber to load the dataset to the device (e.g. data_dict['x_train'].to(device))\n",
        "model = NN(learning_rate=0.01, n_iters=50, batch_size=64, hidden_size=32, device=device)\n",
        "x = data_dict['x_train'].to(device)\n",
        "y = data_dict['y_train'].to(device)\n",
        "x_val = data_dict['x_val'].to(device)\n",
        "y_val = data_dict['y_val'].to(device)\n",
        "model.train(x,y,x_val,y_val)\n",
        "\n",
        "####################################################################################################"
      ],
      "id": "74e9819c"
    },
    {
      "cell_type": "code",
      "execution_count": 12,
      "metadata": {
        "id": "UQciuqY96_6Z",
        "colab": {
          "base_uri": "https://localhost:8080/"
        },
        "outputId": "7e77dde8-5f4f-4ad3-b322-155b2e1ba0ed"
      },
      "outputs": [
        {
          "output_type": "stream",
          "name": "stdout",
          "text": [
            "accuracy:\n",
            "Confusion Matrix:\n",
            " tensor([[ 962.,    0.],\n",
            "        [   0., 1119.]])\n",
            "Accuracy: 1.000\n",
            "Precision: 1.000\n",
            "Recall: 1.000\n",
            "F1: 1.000\n"
          ]
        }
      ],
      "source": [
        "####################################################################################################\n",
        "#use the trained Model1 to predict the labels of test set and evaluate the results with the evaluator\n",
        "hidden = model.sigmoid(data_dict['x_test'].to(device) @ model.W1)\n",
        "output = model.sigmoid(hidden @ model.W2)\n",
        "y_pred = torch.argmax(output, dim=1)\n",
        "y_labels = torch.argmax(data_dict['y_test'].to(device), dim=1)\n",
        "\n",
        "\n",
        "print('accuracy:' )\n",
        "\n",
        "evaluator(y_labels, y_pred)\n",
        "\n",
        "####################################################################################################"
      ],
      "id": "UQciuqY96_6Z"
    },
    {
      "cell_type": "markdown",
      "metadata": {
        "id": "QG_rb7uJ4XDL"
      },
      "source": [
        "## Part 2"
      ],
      "id": "QG_rb7uJ4XDL"
    },
    {
      "cell_type": "markdown",
      "metadata": {
        "id": "a5c845a9"
      },
      "source": [
        "### Model2-1"
      ],
      "id": "a5c845a9"
    },
    {
      "cell_type": "code",
      "execution_count": null,
      "metadata": {
        "id": "13519996"
      },
      "outputs": [],
      "source": [
        "####################################################################################################\n",
        "from sklearn.neural_network import MLPClassifier\n",
        "\n",
        "mlp = MLPClassifier(hidden_layer_sizes=(32,), activation='logistic', alpha=1e-4,\n",
        "                    solver='sgd', tol=1e-4, random_state=1,\n",
        "                    learning_rate_init=.01, verbose=True)\n",
        "####################################################################################################"
      ],
      "id": "13519996"
    },
    {
      "cell_type": "code",
      "execution_count": null,
      "metadata": {
        "id": "208a8e33",
        "colab": {
          "base_uri": "https://localhost:8080/"
        },
        "outputId": "8280fdd8-1839-4e09-eb8d-4b9a58b07400"
      },
      "outputs": [
        {
          "output_type": "stream",
          "name": "stdout",
          "text": [
            "Iteration 1, loss = 3.11138165\n",
            "Iteration 2, loss = 2.13132235\n",
            "Iteration 3, loss = 1.58964190\n",
            "Iteration 4, loss = 1.29892301\n",
            "Iteration 5, loss = 1.11882426\n",
            "Iteration 6, loss = 0.99746216\n",
            "Iteration 7, loss = 0.91087077\n",
            "Iteration 8, loss = 0.84733159\n",
            "Iteration 9, loss = 0.79930226\n",
            "Iteration 10, loss = 0.76151444\n",
            "Iteration 11, loss = 0.73133137\n",
            "Iteration 12, loss = 0.70644336\n",
            "Iteration 13, loss = 0.68530763\n",
            "Iteration 14, loss = 0.66733438\n",
            "Iteration 15, loss = 0.65157516\n",
            "Iteration 16, loss = 0.63782238\n",
            "Iteration 17, loss = 0.62568641\n",
            "Iteration 18, loss = 0.61467763\n",
            "Iteration 19, loss = 0.60451535\n",
            "Iteration 20, loss = 0.59547539\n",
            "Iteration 21, loss = 0.58692856\n",
            "Iteration 22, loss = 0.57907375\n",
            "Iteration 23, loss = 0.57177122\n",
            "Iteration 24, loss = 0.56508039\n",
            "Iteration 25, loss = 0.55864497\n",
            "Iteration 26, loss = 0.55259098\n",
            "Iteration 27, loss = 0.54701479\n",
            "Iteration 28, loss = 0.54161238\n",
            "Iteration 29, loss = 0.53648306\n",
            "Iteration 30, loss = 0.53176621\n",
            "Iteration 31, loss = 0.52707161\n",
            "Iteration 32, loss = 0.52271517\n",
            "Iteration 33, loss = 0.51853254\n",
            "Iteration 34, loss = 0.51444724\n",
            "Iteration 35, loss = 0.51045497\n",
            "Iteration 36, loss = 0.50659257\n",
            "Iteration 37, loss = 0.50322776\n",
            "Iteration 38, loss = 0.49962623\n",
            "Iteration 39, loss = 0.49640844\n",
            "Iteration 40, loss = 0.49309638\n",
            "Iteration 41, loss = 0.49010525\n",
            "Iteration 42, loss = 0.48712931\n",
            "Iteration 43, loss = 0.48427689\n",
            "Iteration 44, loss = 0.48137085\n",
            "Iteration 45, loss = 0.47883706\n",
            "Iteration 46, loss = 0.47615146\n",
            "Iteration 47, loss = 0.47365895\n",
            "Iteration 48, loss = 0.47125814\n",
            "Iteration 49, loss = 0.46880413\n"
          ]
        },
        {
          "output_type": "stream",
          "name": "stderr",
          "text": [
            "/usr/local/lib/python3.7/dist-packages/sklearn/neural_network/_multilayer_perceptron.py:699: UserWarning: Training interrupted by user.\n",
            "  warnings.warn(\"Training interrupted by user.\")\n"
          ]
        },
        {
          "output_type": "execute_result",
          "data": {
            "text/plain": [
              "MLPClassifier(activation='logistic', hidden_layer_sizes=(15,),\n",
              "              learning_rate_init=0.01, random_state=1, solver='sgd',\n",
              "              verbose=True)"
            ]
          },
          "metadata": {},
          "execution_count": 170
        }
      ],
      "source": [
        "####################################################################################################\n",
        "mlp.fit(data_dict['x_train'], data_dict['y_train'])\n",
        "####################################################################################################"
      ],
      "id": "208a8e33"
    },
    {
      "cell_type": "code",
      "execution_count": null,
      "metadata": {
        "id": "f61594f0",
        "colab": {
          "base_uri": "https://localhost:8080/"
        },
        "outputId": "e357f9f2-da98-4dbe-c940-b5d5f4c7180d"
      },
      "outputs": [
        {
          "output_type": "stream",
          "name": "stdout",
          "text": [
            "(10000, 10) torch.Size([10000, 10])\n",
            "Confusion Matrix:\n",
            " tensor([[89560.,   440.],\n",
            "        [  914.,  9086.]])\n",
            "Accuracy: 0.986\n",
            "Precision: 0.954\n",
            "Recall: 0.909\n",
            "F1: 0.931\n"
          ]
        }
      ],
      "source": [
        "####################################################################################################\n",
        "from sklearn.metrics import accuracy_score\n",
        "\n",
        "predictions = mlp.predict(data_dict['x_test'])\n",
        "accuracy_score(data_dict['y_test'], predictions)\n",
        "evaluator(data_dict['y_test'], predictions)\n",
        "####################################################################################################"
      ],
      "id": "f61594f0"
    },
    {
      "cell_type": "markdown",
      "metadata": {
        "id": "c4a9243f"
      },
      "source": [
        "### Model2 - Change hidden layer size\n"
      ],
      "id": "c4a9243f"
    },
    {
      "cell_type": "code",
      "execution_count": null,
      "metadata": {
        "id": "0eaf38a5"
      },
      "outputs": [],
      "source": [
        "####################################################################################################\n",
        "# enter code here to implement Model2-2\n",
        "#\n",
        "# only difference is\n",
        "#      param: hidder_layer_sizes = (32, 32)\n",
        "#             --> corresponding to 2 hiden layers each with 10 neurons   \n",
        "mlp = MLPClassifier(hidden_layer_sizes=(32,32), activation='logistic', alpha=1e-4,\n",
        "                    solver='sgd', tol=1e-4, random_state=1,\n",
        "                    learning_rate_init=.1, verbose=True)\n",
        "####################################################################################################"
      ],
      "id": "0eaf38a5"
    },
    {
      "cell_type": "code",
      "execution_count": null,
      "metadata": {
        "id": "090300ae",
        "colab": {
          "base_uri": "https://localhost:8080/"
        },
        "outputId": "c23ce853-dbaf-4370-f9db-0e8e57246ae6"
      },
      "outputs": [
        {
          "output_type": "stream",
          "name": "stdout",
          "text": [
            "Iteration 1, loss = 2.78898465\n",
            "Iteration 2, loss = 1.29733127\n",
            "Iteration 3, loss = 0.86388761\n",
            "Iteration 4, loss = 0.68547002\n",
            "Iteration 5, loss = 0.60716698\n",
            "Iteration 6, loss = 0.55856221\n",
            "Iteration 7, loss = 0.52714974\n",
            "Iteration 8, loss = 0.50220606\n",
            "Iteration 9, loss = 0.48258993\n",
            "Iteration 10, loss = 0.46980611\n",
            "Iteration 11, loss = 0.45839215\n",
            "Iteration 12, loss = 0.44839663\n",
            "Iteration 13, loss = 0.44057612\n",
            "Iteration 14, loss = 0.43028636\n",
            "Iteration 15, loss = 0.42405097\n",
            "Iteration 16, loss = 0.41796455\n",
            "Iteration 17, loss = 0.41438234\n",
            "Iteration 18, loss = 0.40887143\n",
            "Iteration 19, loss = 0.40466315\n",
            "Iteration 20, loss = 0.40161190\n",
            "Iteration 21, loss = 0.39749369\n",
            "Iteration 22, loss = 0.39158183\n"
          ]
        },
        {
          "output_type": "stream",
          "name": "stderr",
          "text": [
            "/usr/local/lib/python3.7/dist-packages/sklearn/neural_network/_multilayer_perceptron.py:699: UserWarning: Training interrupted by user.\n",
            "  warnings.warn(\"Training interrupted by user.\")\n"
          ]
        },
        {
          "output_type": "execute_result",
          "data": {
            "text/plain": [
              "MLPClassifier(activation='logistic', hidden_layer_sizes=(10, 10),\n",
              "              learning_rate_init=0.1, random_state=1, solver='sgd',\n",
              "              verbose=True)"
            ]
          },
          "metadata": {},
          "execution_count": 173
        }
      ],
      "source": [
        "####################################################################################################\n",
        "# enter code here to train Model2-2\n",
        "mlp.fit(data_dict['x_train'], data_dict['y_train'])\n",
        "####################################################################################################"
      ],
      "id": "090300ae"
    },
    {
      "cell_type": "code",
      "execution_count": null,
      "metadata": {
        "id": "ca87daf8",
        "colab": {
          "base_uri": "https://localhost:8080/"
        },
        "outputId": "12d0eda4-41a6-41e5-b65e-bc7423f531e3"
      },
      "outputs": [
        {
          "output_type": "stream",
          "name": "stdout",
          "text": [
            "Confusion Matrix:\n",
            " tensor([[89504.,   496.],\n",
            "        [  777.,  9223.]])\n",
            "Accuracy: 0.987\n",
            "Precision: 0.949\n",
            "Recall: 0.922\n",
            "F1: 0.935\n"
          ]
        }
      ],
      "source": [
        "####################################################################################################\n",
        "# enter code here to evaluate Model2-2\n",
        "from sklearn.metrics import accuracy_score\n",
        "\n",
        "predictions = mlp.predict(data_dict['x_test'])\n",
        "accuracy_score(data_dict['y_test'], predictions)\n",
        "evaluator(data_dict['y_test'], predictions)\n",
        "####################################################################################################"
      ],
      "id": "ca87daf8"
    }
  ],
  "metadata": {
    "accelerator": "GPU",
    "colab": {
      "provenance": []
    },
    "kernelspec": {
      "display_name": "Python 3.8.9 64-bit",
      "language": "python",
      "name": "python3"
    },
    "language_info": {
      "codemirror_mode": {
        "name": "ipython",
        "version": 3
      },
      "file_extension": ".py",
      "mimetype": "text/x-python",
      "name": "python",
      "nbconvert_exporter": "python",
      "pygments_lexer": "ipython3",
      "version": "3.8.9"
    },
    "vscode": {
      "interpreter": {
        "hash": "31f2aee4e71d21fbe5cf8b01ff0e069b9275f58929596ceb00d14d90e3e16cd6"
      }
    },
    "widgets": {
      "application/vnd.jupyter.widget-state+json": {
        "d7bc39774cbf443db32fc6580a153dd6": {
          "model_module": "@jupyter-widgets/controls",
          "model_name": "HBoxModel",
          "model_module_version": "1.5.0",
          "state": {
            "_dom_classes": [],
            "_model_module": "@jupyter-widgets/controls",
            "_model_module_version": "1.5.0",
            "_model_name": "HBoxModel",
            "_view_count": null,
            "_view_module": "@jupyter-widgets/controls",
            "_view_module_version": "1.5.0",
            "_view_name": "HBoxView",
            "box_style": "",
            "children": [
              "IPY_MODEL_1416521262da4bec8ddeee3c2751f17e",
              "IPY_MODEL_eec33af398be4ab8a9921e8cb8557d60",
              "IPY_MODEL_2e839414773748b291dbefd060fcea2b"
            ],
            "layout": "IPY_MODEL_c520994ece5046be919e40deb0d5169e"
          }
        },
        "1416521262da4bec8ddeee3c2751f17e": {
          "model_module": "@jupyter-widgets/controls",
          "model_name": "HTMLModel",
          "model_module_version": "1.5.0",
          "state": {
            "_dom_classes": [],
            "_model_module": "@jupyter-widgets/controls",
            "_model_module_version": "1.5.0",
            "_model_name": "HTMLModel",
            "_view_count": null,
            "_view_module": "@jupyter-widgets/controls",
            "_view_module_version": "1.5.0",
            "_view_name": "HTMLView",
            "description": "",
            "description_tooltip": null,
            "layout": "IPY_MODEL_e08982a9f3904b97aa0f9700a4b3f4b9",
            "placeholder": "​",
            "style": "IPY_MODEL_0943925994ff41d8b8534af3f3350dec",
            "value": "100%"
          }
        },
        "eec33af398be4ab8a9921e8cb8557d60": {
          "model_module": "@jupyter-widgets/controls",
          "model_name": "FloatProgressModel",
          "model_module_version": "1.5.0",
          "state": {
            "_dom_classes": [],
            "_model_module": "@jupyter-widgets/controls",
            "_model_module_version": "1.5.0",
            "_model_name": "FloatProgressModel",
            "_view_count": null,
            "_view_module": "@jupyter-widgets/controls",
            "_view_module_version": "1.5.0",
            "_view_name": "ProgressView",
            "bar_style": "success",
            "description": "",
            "description_tooltip": null,
            "layout": "IPY_MODEL_933ad6a0810d492184eabbbfd29cd0b2",
            "max": 9912422,
            "min": 0,
            "orientation": "horizontal",
            "style": "IPY_MODEL_ba492b95d3644ae5aa24bc8ddd96c1c4",
            "value": 9912422
          }
        },
        "2e839414773748b291dbefd060fcea2b": {
          "model_module": "@jupyter-widgets/controls",
          "model_name": "HTMLModel",
          "model_module_version": "1.5.0",
          "state": {
            "_dom_classes": [],
            "_model_module": "@jupyter-widgets/controls",
            "_model_module_version": "1.5.0",
            "_model_name": "HTMLModel",
            "_view_count": null,
            "_view_module": "@jupyter-widgets/controls",
            "_view_module_version": "1.5.0",
            "_view_name": "HTMLView",
            "description": "",
            "description_tooltip": null,
            "layout": "IPY_MODEL_75bb01e525534297bc92b264fef6850a",
            "placeholder": "​",
            "style": "IPY_MODEL_3971587556a14313a26cad3eda10fea0",
            "value": " 9912422/9912422 [00:00&lt;00:00, 1957025.33it/s]"
          }
        },
        "c520994ece5046be919e40deb0d5169e": {
          "model_module": "@jupyter-widgets/base",
          "model_name": "LayoutModel",
          "model_module_version": "1.2.0",
          "state": {
            "_model_module": "@jupyter-widgets/base",
            "_model_module_version": "1.2.0",
            "_model_name": "LayoutModel",
            "_view_count": null,
            "_view_module": "@jupyter-widgets/base",
            "_view_module_version": "1.2.0",
            "_view_name": "LayoutView",
            "align_content": null,
            "align_items": null,
            "align_self": null,
            "border": null,
            "bottom": null,
            "display": null,
            "flex": null,
            "flex_flow": null,
            "grid_area": null,
            "grid_auto_columns": null,
            "grid_auto_flow": null,
            "grid_auto_rows": null,
            "grid_column": null,
            "grid_gap": null,
            "grid_row": null,
            "grid_template_areas": null,
            "grid_template_columns": null,
            "grid_template_rows": null,
            "height": null,
            "justify_content": null,
            "justify_items": null,
            "left": null,
            "margin": null,
            "max_height": null,
            "max_width": null,
            "min_height": null,
            "min_width": null,
            "object_fit": null,
            "object_position": null,
            "order": null,
            "overflow": null,
            "overflow_x": null,
            "overflow_y": null,
            "padding": null,
            "right": null,
            "top": null,
            "visibility": null,
            "width": null
          }
        },
        "e08982a9f3904b97aa0f9700a4b3f4b9": {
          "model_module": "@jupyter-widgets/base",
          "model_name": "LayoutModel",
          "model_module_version": "1.2.0",
          "state": {
            "_model_module": "@jupyter-widgets/base",
            "_model_module_version": "1.2.0",
            "_model_name": "LayoutModel",
            "_view_count": null,
            "_view_module": "@jupyter-widgets/base",
            "_view_module_version": "1.2.0",
            "_view_name": "LayoutView",
            "align_content": null,
            "align_items": null,
            "align_self": null,
            "border": null,
            "bottom": null,
            "display": null,
            "flex": null,
            "flex_flow": null,
            "grid_area": null,
            "grid_auto_columns": null,
            "grid_auto_flow": null,
            "grid_auto_rows": null,
            "grid_column": null,
            "grid_gap": null,
            "grid_row": null,
            "grid_template_areas": null,
            "grid_template_columns": null,
            "grid_template_rows": null,
            "height": null,
            "justify_content": null,
            "justify_items": null,
            "left": null,
            "margin": null,
            "max_height": null,
            "max_width": null,
            "min_height": null,
            "min_width": null,
            "object_fit": null,
            "object_position": null,
            "order": null,
            "overflow": null,
            "overflow_x": null,
            "overflow_y": null,
            "padding": null,
            "right": null,
            "top": null,
            "visibility": null,
            "width": null
          }
        },
        "0943925994ff41d8b8534af3f3350dec": {
          "model_module": "@jupyter-widgets/controls",
          "model_name": "DescriptionStyleModel",
          "model_module_version": "1.5.0",
          "state": {
            "_model_module": "@jupyter-widgets/controls",
            "_model_module_version": "1.5.0",
            "_model_name": "DescriptionStyleModel",
            "_view_count": null,
            "_view_module": "@jupyter-widgets/base",
            "_view_module_version": "1.2.0",
            "_view_name": "StyleView",
            "description_width": ""
          }
        },
        "933ad6a0810d492184eabbbfd29cd0b2": {
          "model_module": "@jupyter-widgets/base",
          "model_name": "LayoutModel",
          "model_module_version": "1.2.0",
          "state": {
            "_model_module": "@jupyter-widgets/base",
            "_model_module_version": "1.2.0",
            "_model_name": "LayoutModel",
            "_view_count": null,
            "_view_module": "@jupyter-widgets/base",
            "_view_module_version": "1.2.0",
            "_view_name": "LayoutView",
            "align_content": null,
            "align_items": null,
            "align_self": null,
            "border": null,
            "bottom": null,
            "display": null,
            "flex": null,
            "flex_flow": null,
            "grid_area": null,
            "grid_auto_columns": null,
            "grid_auto_flow": null,
            "grid_auto_rows": null,
            "grid_column": null,
            "grid_gap": null,
            "grid_row": null,
            "grid_template_areas": null,
            "grid_template_columns": null,
            "grid_template_rows": null,
            "height": null,
            "justify_content": null,
            "justify_items": null,
            "left": null,
            "margin": null,
            "max_height": null,
            "max_width": null,
            "min_height": null,
            "min_width": null,
            "object_fit": null,
            "object_position": null,
            "order": null,
            "overflow": null,
            "overflow_x": null,
            "overflow_y": null,
            "padding": null,
            "right": null,
            "top": null,
            "visibility": null,
            "width": null
          }
        },
        "ba492b95d3644ae5aa24bc8ddd96c1c4": {
          "model_module": "@jupyter-widgets/controls",
          "model_name": "ProgressStyleModel",
          "model_module_version": "1.5.0",
          "state": {
            "_model_module": "@jupyter-widgets/controls",
            "_model_module_version": "1.5.0",
            "_model_name": "ProgressStyleModel",
            "_view_count": null,
            "_view_module": "@jupyter-widgets/base",
            "_view_module_version": "1.2.0",
            "_view_name": "StyleView",
            "bar_color": null,
            "description_width": ""
          }
        },
        "75bb01e525534297bc92b264fef6850a": {
          "model_module": "@jupyter-widgets/base",
          "model_name": "LayoutModel",
          "model_module_version": "1.2.0",
          "state": {
            "_model_module": "@jupyter-widgets/base",
            "_model_module_version": "1.2.0",
            "_model_name": "LayoutModel",
            "_view_count": null,
            "_view_module": "@jupyter-widgets/base",
            "_view_module_version": "1.2.0",
            "_view_name": "LayoutView",
            "align_content": null,
            "align_items": null,
            "align_self": null,
            "border": null,
            "bottom": null,
            "display": null,
            "flex": null,
            "flex_flow": null,
            "grid_area": null,
            "grid_auto_columns": null,
            "grid_auto_flow": null,
            "grid_auto_rows": null,
            "grid_column": null,
            "grid_gap": null,
            "grid_row": null,
            "grid_template_areas": null,
            "grid_template_columns": null,
            "grid_template_rows": null,
            "height": null,
            "justify_content": null,
            "justify_items": null,
            "left": null,
            "margin": null,
            "max_height": null,
            "max_width": null,
            "min_height": null,
            "min_width": null,
            "object_fit": null,
            "object_position": null,
            "order": null,
            "overflow": null,
            "overflow_x": null,
            "overflow_y": null,
            "padding": null,
            "right": null,
            "top": null,
            "visibility": null,
            "width": null
          }
        },
        "3971587556a14313a26cad3eda10fea0": {
          "model_module": "@jupyter-widgets/controls",
          "model_name": "DescriptionStyleModel",
          "model_module_version": "1.5.0",
          "state": {
            "_model_module": "@jupyter-widgets/controls",
            "_model_module_version": "1.5.0",
            "_model_name": "DescriptionStyleModel",
            "_view_count": null,
            "_view_module": "@jupyter-widgets/base",
            "_view_module_version": "1.2.0",
            "_view_name": "StyleView",
            "description_width": ""
          }
        },
        "66262ef298bd415888afc8d7ce9e1057": {
          "model_module": "@jupyter-widgets/controls",
          "model_name": "HBoxModel",
          "model_module_version": "1.5.0",
          "state": {
            "_dom_classes": [],
            "_model_module": "@jupyter-widgets/controls",
            "_model_module_version": "1.5.0",
            "_model_name": "HBoxModel",
            "_view_count": null,
            "_view_module": "@jupyter-widgets/controls",
            "_view_module_version": "1.5.0",
            "_view_name": "HBoxView",
            "box_style": "",
            "children": [
              "IPY_MODEL_858efc11b1e543a382de34190b41de18",
              "IPY_MODEL_e1e63d27195547e589ef9d3c3573d48d",
              "IPY_MODEL_2cc465e3a07149d7b7f53eed83dd876f"
            ],
            "layout": "IPY_MODEL_7e051be82eac4cfc8ee4ab8de5539c83"
          }
        },
        "858efc11b1e543a382de34190b41de18": {
          "model_module": "@jupyter-widgets/controls",
          "model_name": "HTMLModel",
          "model_module_version": "1.5.0",
          "state": {
            "_dom_classes": [],
            "_model_module": "@jupyter-widgets/controls",
            "_model_module_version": "1.5.0",
            "_model_name": "HTMLModel",
            "_view_count": null,
            "_view_module": "@jupyter-widgets/controls",
            "_view_module_version": "1.5.0",
            "_view_name": "HTMLView",
            "description": "",
            "description_tooltip": null,
            "layout": "IPY_MODEL_582960f1281d4204ab6d874cfdc62730",
            "placeholder": "​",
            "style": "IPY_MODEL_f3ba7bd0a8d94afda7f6bf2b0879cef5",
            "value": "100%"
          }
        },
        "e1e63d27195547e589ef9d3c3573d48d": {
          "model_module": "@jupyter-widgets/controls",
          "model_name": "FloatProgressModel",
          "model_module_version": "1.5.0",
          "state": {
            "_dom_classes": [],
            "_model_module": "@jupyter-widgets/controls",
            "_model_module_version": "1.5.0",
            "_model_name": "FloatProgressModel",
            "_view_count": null,
            "_view_module": "@jupyter-widgets/controls",
            "_view_module_version": "1.5.0",
            "_view_name": "ProgressView",
            "bar_style": "success",
            "description": "",
            "description_tooltip": null,
            "layout": "IPY_MODEL_8ba74cae827540a080727d8f43a5115d",
            "max": 28881,
            "min": 0,
            "orientation": "horizontal",
            "style": "IPY_MODEL_777186e599884f659d7579083d520f15",
            "value": 28881
          }
        },
        "2cc465e3a07149d7b7f53eed83dd876f": {
          "model_module": "@jupyter-widgets/controls",
          "model_name": "HTMLModel",
          "model_module_version": "1.5.0",
          "state": {
            "_dom_classes": [],
            "_model_module": "@jupyter-widgets/controls",
            "_model_module_version": "1.5.0",
            "_model_name": "HTMLModel",
            "_view_count": null,
            "_view_module": "@jupyter-widgets/controls",
            "_view_module_version": "1.5.0",
            "_view_name": "HTMLView",
            "description": "",
            "description_tooltip": null,
            "layout": "IPY_MODEL_8a4ee42077974f23abf5d9c98d345552",
            "placeholder": "​",
            "style": "IPY_MODEL_ba98737afde24805b000939840b1c985",
            "value": " 28881/28881 [00:00&lt;00:00, 285959.75it/s]"
          }
        },
        "7e051be82eac4cfc8ee4ab8de5539c83": {
          "model_module": "@jupyter-widgets/base",
          "model_name": "LayoutModel",
          "model_module_version": "1.2.0",
          "state": {
            "_model_module": "@jupyter-widgets/base",
            "_model_module_version": "1.2.0",
            "_model_name": "LayoutModel",
            "_view_count": null,
            "_view_module": "@jupyter-widgets/base",
            "_view_module_version": "1.2.0",
            "_view_name": "LayoutView",
            "align_content": null,
            "align_items": null,
            "align_self": null,
            "border": null,
            "bottom": null,
            "display": null,
            "flex": null,
            "flex_flow": null,
            "grid_area": null,
            "grid_auto_columns": null,
            "grid_auto_flow": null,
            "grid_auto_rows": null,
            "grid_column": null,
            "grid_gap": null,
            "grid_row": null,
            "grid_template_areas": null,
            "grid_template_columns": null,
            "grid_template_rows": null,
            "height": null,
            "justify_content": null,
            "justify_items": null,
            "left": null,
            "margin": null,
            "max_height": null,
            "max_width": null,
            "min_height": null,
            "min_width": null,
            "object_fit": null,
            "object_position": null,
            "order": null,
            "overflow": null,
            "overflow_x": null,
            "overflow_y": null,
            "padding": null,
            "right": null,
            "top": null,
            "visibility": null,
            "width": null
          }
        },
        "582960f1281d4204ab6d874cfdc62730": {
          "model_module": "@jupyter-widgets/base",
          "model_name": "LayoutModel",
          "model_module_version": "1.2.0",
          "state": {
            "_model_module": "@jupyter-widgets/base",
            "_model_module_version": "1.2.0",
            "_model_name": "LayoutModel",
            "_view_count": null,
            "_view_module": "@jupyter-widgets/base",
            "_view_module_version": "1.2.0",
            "_view_name": "LayoutView",
            "align_content": null,
            "align_items": null,
            "align_self": null,
            "border": null,
            "bottom": null,
            "display": null,
            "flex": null,
            "flex_flow": null,
            "grid_area": null,
            "grid_auto_columns": null,
            "grid_auto_flow": null,
            "grid_auto_rows": null,
            "grid_column": null,
            "grid_gap": null,
            "grid_row": null,
            "grid_template_areas": null,
            "grid_template_columns": null,
            "grid_template_rows": null,
            "height": null,
            "justify_content": null,
            "justify_items": null,
            "left": null,
            "margin": null,
            "max_height": null,
            "max_width": null,
            "min_height": null,
            "min_width": null,
            "object_fit": null,
            "object_position": null,
            "order": null,
            "overflow": null,
            "overflow_x": null,
            "overflow_y": null,
            "padding": null,
            "right": null,
            "top": null,
            "visibility": null,
            "width": null
          }
        },
        "f3ba7bd0a8d94afda7f6bf2b0879cef5": {
          "model_module": "@jupyter-widgets/controls",
          "model_name": "DescriptionStyleModel",
          "model_module_version": "1.5.0",
          "state": {
            "_model_module": "@jupyter-widgets/controls",
            "_model_module_version": "1.5.0",
            "_model_name": "DescriptionStyleModel",
            "_view_count": null,
            "_view_module": "@jupyter-widgets/base",
            "_view_module_version": "1.2.0",
            "_view_name": "StyleView",
            "description_width": ""
          }
        },
        "8ba74cae827540a080727d8f43a5115d": {
          "model_module": "@jupyter-widgets/base",
          "model_name": "LayoutModel",
          "model_module_version": "1.2.0",
          "state": {
            "_model_module": "@jupyter-widgets/base",
            "_model_module_version": "1.2.0",
            "_model_name": "LayoutModel",
            "_view_count": null,
            "_view_module": "@jupyter-widgets/base",
            "_view_module_version": "1.2.0",
            "_view_name": "LayoutView",
            "align_content": null,
            "align_items": null,
            "align_self": null,
            "border": null,
            "bottom": null,
            "display": null,
            "flex": null,
            "flex_flow": null,
            "grid_area": null,
            "grid_auto_columns": null,
            "grid_auto_flow": null,
            "grid_auto_rows": null,
            "grid_column": null,
            "grid_gap": null,
            "grid_row": null,
            "grid_template_areas": null,
            "grid_template_columns": null,
            "grid_template_rows": null,
            "height": null,
            "justify_content": null,
            "justify_items": null,
            "left": null,
            "margin": null,
            "max_height": null,
            "max_width": null,
            "min_height": null,
            "min_width": null,
            "object_fit": null,
            "object_position": null,
            "order": null,
            "overflow": null,
            "overflow_x": null,
            "overflow_y": null,
            "padding": null,
            "right": null,
            "top": null,
            "visibility": null,
            "width": null
          }
        },
        "777186e599884f659d7579083d520f15": {
          "model_module": "@jupyter-widgets/controls",
          "model_name": "ProgressStyleModel",
          "model_module_version": "1.5.0",
          "state": {
            "_model_module": "@jupyter-widgets/controls",
            "_model_module_version": "1.5.0",
            "_model_name": "ProgressStyleModel",
            "_view_count": null,
            "_view_module": "@jupyter-widgets/base",
            "_view_module_version": "1.2.0",
            "_view_name": "StyleView",
            "bar_color": null,
            "description_width": ""
          }
        },
        "8a4ee42077974f23abf5d9c98d345552": {
          "model_module": "@jupyter-widgets/base",
          "model_name": "LayoutModel",
          "model_module_version": "1.2.0",
          "state": {
            "_model_module": "@jupyter-widgets/base",
            "_model_module_version": "1.2.0",
            "_model_name": "LayoutModel",
            "_view_count": null,
            "_view_module": "@jupyter-widgets/base",
            "_view_module_version": "1.2.0",
            "_view_name": "LayoutView",
            "align_content": null,
            "align_items": null,
            "align_self": null,
            "border": null,
            "bottom": null,
            "display": null,
            "flex": null,
            "flex_flow": null,
            "grid_area": null,
            "grid_auto_columns": null,
            "grid_auto_flow": null,
            "grid_auto_rows": null,
            "grid_column": null,
            "grid_gap": null,
            "grid_row": null,
            "grid_template_areas": null,
            "grid_template_columns": null,
            "grid_template_rows": null,
            "height": null,
            "justify_content": null,
            "justify_items": null,
            "left": null,
            "margin": null,
            "max_height": null,
            "max_width": null,
            "min_height": null,
            "min_width": null,
            "object_fit": null,
            "object_position": null,
            "order": null,
            "overflow": null,
            "overflow_x": null,
            "overflow_y": null,
            "padding": null,
            "right": null,
            "top": null,
            "visibility": null,
            "width": null
          }
        },
        "ba98737afde24805b000939840b1c985": {
          "model_module": "@jupyter-widgets/controls",
          "model_name": "DescriptionStyleModel",
          "model_module_version": "1.5.0",
          "state": {
            "_model_module": "@jupyter-widgets/controls",
            "_model_module_version": "1.5.0",
            "_model_name": "DescriptionStyleModel",
            "_view_count": null,
            "_view_module": "@jupyter-widgets/base",
            "_view_module_version": "1.2.0",
            "_view_name": "StyleView",
            "description_width": ""
          }
        },
        "73bd439cc4c54ae782943110cf77c5ff": {
          "model_module": "@jupyter-widgets/controls",
          "model_name": "HBoxModel",
          "model_module_version": "1.5.0",
          "state": {
            "_dom_classes": [],
            "_model_module": "@jupyter-widgets/controls",
            "_model_module_version": "1.5.0",
            "_model_name": "HBoxModel",
            "_view_count": null,
            "_view_module": "@jupyter-widgets/controls",
            "_view_module_version": "1.5.0",
            "_view_name": "HBoxView",
            "box_style": "",
            "children": [
              "IPY_MODEL_be3c63fc91ff4b71a64f3e2c57a051d7",
              "IPY_MODEL_1f93701dad8e40cc8545aead23920f26",
              "IPY_MODEL_1ce1b471ce264e16a678ec63dee581fd"
            ],
            "layout": "IPY_MODEL_d639c2d20d484fcbab3edc013f8db582"
          }
        },
        "be3c63fc91ff4b71a64f3e2c57a051d7": {
          "model_module": "@jupyter-widgets/controls",
          "model_name": "HTMLModel",
          "model_module_version": "1.5.0",
          "state": {
            "_dom_classes": [],
            "_model_module": "@jupyter-widgets/controls",
            "_model_module_version": "1.5.0",
            "_model_name": "HTMLModel",
            "_view_count": null,
            "_view_module": "@jupyter-widgets/controls",
            "_view_module_version": "1.5.0",
            "_view_name": "HTMLView",
            "description": "",
            "description_tooltip": null,
            "layout": "IPY_MODEL_400d11bf8a644da5865e1765c899f66c",
            "placeholder": "​",
            "style": "IPY_MODEL_f6188d8e3e9144328179efd2666be4b5",
            "value": "100%"
          }
        },
        "1f93701dad8e40cc8545aead23920f26": {
          "model_module": "@jupyter-widgets/controls",
          "model_name": "FloatProgressModel",
          "model_module_version": "1.5.0",
          "state": {
            "_dom_classes": [],
            "_model_module": "@jupyter-widgets/controls",
            "_model_module_version": "1.5.0",
            "_model_name": "FloatProgressModel",
            "_view_count": null,
            "_view_module": "@jupyter-widgets/controls",
            "_view_module_version": "1.5.0",
            "_view_name": "ProgressView",
            "bar_style": "success",
            "description": "",
            "description_tooltip": null,
            "layout": "IPY_MODEL_02366090fc144e7aa3bb1c7b15817b99",
            "max": 1648877,
            "min": 0,
            "orientation": "horizontal",
            "style": "IPY_MODEL_df261f6be1cc4508bb53fb3748bb5069",
            "value": 1648877
          }
        },
        "1ce1b471ce264e16a678ec63dee581fd": {
          "model_module": "@jupyter-widgets/controls",
          "model_name": "HTMLModel",
          "model_module_version": "1.5.0",
          "state": {
            "_dom_classes": [],
            "_model_module": "@jupyter-widgets/controls",
            "_model_module_version": "1.5.0",
            "_model_name": "HTMLModel",
            "_view_count": null,
            "_view_module": "@jupyter-widgets/controls",
            "_view_module_version": "1.5.0",
            "_view_name": "HTMLView",
            "description": "",
            "description_tooltip": null,
            "layout": "IPY_MODEL_ccfc5dce17a841a9a0e0759a178b5631",
            "placeholder": "​",
            "style": "IPY_MODEL_3aae2758dd47402db597333530ccba2f",
            "value": " 1648877/1648877 [00:00&lt;00:00, 7104824.44it/s]"
          }
        },
        "d639c2d20d484fcbab3edc013f8db582": {
          "model_module": "@jupyter-widgets/base",
          "model_name": "LayoutModel",
          "model_module_version": "1.2.0",
          "state": {
            "_model_module": "@jupyter-widgets/base",
            "_model_module_version": "1.2.0",
            "_model_name": "LayoutModel",
            "_view_count": null,
            "_view_module": "@jupyter-widgets/base",
            "_view_module_version": "1.2.0",
            "_view_name": "LayoutView",
            "align_content": null,
            "align_items": null,
            "align_self": null,
            "border": null,
            "bottom": null,
            "display": null,
            "flex": null,
            "flex_flow": null,
            "grid_area": null,
            "grid_auto_columns": null,
            "grid_auto_flow": null,
            "grid_auto_rows": null,
            "grid_column": null,
            "grid_gap": null,
            "grid_row": null,
            "grid_template_areas": null,
            "grid_template_columns": null,
            "grid_template_rows": null,
            "height": null,
            "justify_content": null,
            "justify_items": null,
            "left": null,
            "margin": null,
            "max_height": null,
            "max_width": null,
            "min_height": null,
            "min_width": null,
            "object_fit": null,
            "object_position": null,
            "order": null,
            "overflow": null,
            "overflow_x": null,
            "overflow_y": null,
            "padding": null,
            "right": null,
            "top": null,
            "visibility": null,
            "width": null
          }
        },
        "400d11bf8a644da5865e1765c899f66c": {
          "model_module": "@jupyter-widgets/base",
          "model_name": "LayoutModel",
          "model_module_version": "1.2.0",
          "state": {
            "_model_module": "@jupyter-widgets/base",
            "_model_module_version": "1.2.0",
            "_model_name": "LayoutModel",
            "_view_count": null,
            "_view_module": "@jupyter-widgets/base",
            "_view_module_version": "1.2.0",
            "_view_name": "LayoutView",
            "align_content": null,
            "align_items": null,
            "align_self": null,
            "border": null,
            "bottom": null,
            "display": null,
            "flex": null,
            "flex_flow": null,
            "grid_area": null,
            "grid_auto_columns": null,
            "grid_auto_flow": null,
            "grid_auto_rows": null,
            "grid_column": null,
            "grid_gap": null,
            "grid_row": null,
            "grid_template_areas": null,
            "grid_template_columns": null,
            "grid_template_rows": null,
            "height": null,
            "justify_content": null,
            "justify_items": null,
            "left": null,
            "margin": null,
            "max_height": null,
            "max_width": null,
            "min_height": null,
            "min_width": null,
            "object_fit": null,
            "object_position": null,
            "order": null,
            "overflow": null,
            "overflow_x": null,
            "overflow_y": null,
            "padding": null,
            "right": null,
            "top": null,
            "visibility": null,
            "width": null
          }
        },
        "f6188d8e3e9144328179efd2666be4b5": {
          "model_module": "@jupyter-widgets/controls",
          "model_name": "DescriptionStyleModel",
          "model_module_version": "1.5.0",
          "state": {
            "_model_module": "@jupyter-widgets/controls",
            "_model_module_version": "1.5.0",
            "_model_name": "DescriptionStyleModel",
            "_view_count": null,
            "_view_module": "@jupyter-widgets/base",
            "_view_module_version": "1.2.0",
            "_view_name": "StyleView",
            "description_width": ""
          }
        },
        "02366090fc144e7aa3bb1c7b15817b99": {
          "model_module": "@jupyter-widgets/base",
          "model_name": "LayoutModel",
          "model_module_version": "1.2.0",
          "state": {
            "_model_module": "@jupyter-widgets/base",
            "_model_module_version": "1.2.0",
            "_model_name": "LayoutModel",
            "_view_count": null,
            "_view_module": "@jupyter-widgets/base",
            "_view_module_version": "1.2.0",
            "_view_name": "LayoutView",
            "align_content": null,
            "align_items": null,
            "align_self": null,
            "border": null,
            "bottom": null,
            "display": null,
            "flex": null,
            "flex_flow": null,
            "grid_area": null,
            "grid_auto_columns": null,
            "grid_auto_flow": null,
            "grid_auto_rows": null,
            "grid_column": null,
            "grid_gap": null,
            "grid_row": null,
            "grid_template_areas": null,
            "grid_template_columns": null,
            "grid_template_rows": null,
            "height": null,
            "justify_content": null,
            "justify_items": null,
            "left": null,
            "margin": null,
            "max_height": null,
            "max_width": null,
            "min_height": null,
            "min_width": null,
            "object_fit": null,
            "object_position": null,
            "order": null,
            "overflow": null,
            "overflow_x": null,
            "overflow_y": null,
            "padding": null,
            "right": null,
            "top": null,
            "visibility": null,
            "width": null
          }
        },
        "df261f6be1cc4508bb53fb3748bb5069": {
          "model_module": "@jupyter-widgets/controls",
          "model_name": "ProgressStyleModel",
          "model_module_version": "1.5.0",
          "state": {
            "_model_module": "@jupyter-widgets/controls",
            "_model_module_version": "1.5.0",
            "_model_name": "ProgressStyleModel",
            "_view_count": null,
            "_view_module": "@jupyter-widgets/base",
            "_view_module_version": "1.2.0",
            "_view_name": "StyleView",
            "bar_color": null,
            "description_width": ""
          }
        },
        "ccfc5dce17a841a9a0e0759a178b5631": {
          "model_module": "@jupyter-widgets/base",
          "model_name": "LayoutModel",
          "model_module_version": "1.2.0",
          "state": {
            "_model_module": "@jupyter-widgets/base",
            "_model_module_version": "1.2.0",
            "_model_name": "LayoutModel",
            "_view_count": null,
            "_view_module": "@jupyter-widgets/base",
            "_view_module_version": "1.2.0",
            "_view_name": "LayoutView",
            "align_content": null,
            "align_items": null,
            "align_self": null,
            "border": null,
            "bottom": null,
            "display": null,
            "flex": null,
            "flex_flow": null,
            "grid_area": null,
            "grid_auto_columns": null,
            "grid_auto_flow": null,
            "grid_auto_rows": null,
            "grid_column": null,
            "grid_gap": null,
            "grid_row": null,
            "grid_template_areas": null,
            "grid_template_columns": null,
            "grid_template_rows": null,
            "height": null,
            "justify_content": null,
            "justify_items": null,
            "left": null,
            "margin": null,
            "max_height": null,
            "max_width": null,
            "min_height": null,
            "min_width": null,
            "object_fit": null,
            "object_position": null,
            "order": null,
            "overflow": null,
            "overflow_x": null,
            "overflow_y": null,
            "padding": null,
            "right": null,
            "top": null,
            "visibility": null,
            "width": null
          }
        },
        "3aae2758dd47402db597333530ccba2f": {
          "model_module": "@jupyter-widgets/controls",
          "model_name": "DescriptionStyleModel",
          "model_module_version": "1.5.0",
          "state": {
            "_model_module": "@jupyter-widgets/controls",
            "_model_module_version": "1.5.0",
            "_model_name": "DescriptionStyleModel",
            "_view_count": null,
            "_view_module": "@jupyter-widgets/base",
            "_view_module_version": "1.2.0",
            "_view_name": "StyleView",
            "description_width": ""
          }
        },
        "174ae835d56f4dbdbf482aaedade9624": {
          "model_module": "@jupyter-widgets/controls",
          "model_name": "HBoxModel",
          "model_module_version": "1.5.0",
          "state": {
            "_dom_classes": [],
            "_model_module": "@jupyter-widgets/controls",
            "_model_module_version": "1.5.0",
            "_model_name": "HBoxModel",
            "_view_count": null,
            "_view_module": "@jupyter-widgets/controls",
            "_view_module_version": "1.5.0",
            "_view_name": "HBoxView",
            "box_style": "",
            "children": [
              "IPY_MODEL_ff53f7202ac847f0bb8093cb30cd9150",
              "IPY_MODEL_566ad1c42e8042d1b0d307344dc3948d",
              "IPY_MODEL_557581fa8d4a496a88a4cbb5f60a0fed"
            ],
            "layout": "IPY_MODEL_fe4c1a2501594b199c07d47bf97080a2"
          }
        },
        "ff53f7202ac847f0bb8093cb30cd9150": {
          "model_module": "@jupyter-widgets/controls",
          "model_name": "HTMLModel",
          "model_module_version": "1.5.0",
          "state": {
            "_dom_classes": [],
            "_model_module": "@jupyter-widgets/controls",
            "_model_module_version": "1.5.0",
            "_model_name": "HTMLModel",
            "_view_count": null,
            "_view_module": "@jupyter-widgets/controls",
            "_view_module_version": "1.5.0",
            "_view_name": "HTMLView",
            "description": "",
            "description_tooltip": null,
            "layout": "IPY_MODEL_bd4ad45c623747b4a64cad8e370db1cd",
            "placeholder": "​",
            "style": "IPY_MODEL_2b2d6c2df6904b56840cd851de436fe4",
            "value": "100%"
          }
        },
        "566ad1c42e8042d1b0d307344dc3948d": {
          "model_module": "@jupyter-widgets/controls",
          "model_name": "FloatProgressModel",
          "model_module_version": "1.5.0",
          "state": {
            "_dom_classes": [],
            "_model_module": "@jupyter-widgets/controls",
            "_model_module_version": "1.5.0",
            "_model_name": "FloatProgressModel",
            "_view_count": null,
            "_view_module": "@jupyter-widgets/controls",
            "_view_module_version": "1.5.0",
            "_view_name": "ProgressView",
            "bar_style": "success",
            "description": "",
            "description_tooltip": null,
            "layout": "IPY_MODEL_cbe97d2cc61b45c393afe6dbbde9d90d",
            "max": 4542,
            "min": 0,
            "orientation": "horizontal",
            "style": "IPY_MODEL_405f86d392a94153abd9e64a0b32d1f3",
            "value": 4542
          }
        },
        "557581fa8d4a496a88a4cbb5f60a0fed": {
          "model_module": "@jupyter-widgets/controls",
          "model_name": "HTMLModel",
          "model_module_version": "1.5.0",
          "state": {
            "_dom_classes": [],
            "_model_module": "@jupyter-widgets/controls",
            "_model_module_version": "1.5.0",
            "_model_name": "HTMLModel",
            "_view_count": null,
            "_view_module": "@jupyter-widgets/controls",
            "_view_module_version": "1.5.0",
            "_view_name": "HTMLView",
            "description": "",
            "description_tooltip": null,
            "layout": "IPY_MODEL_2b85fb3114c84892863cee5f62c8fdbe",
            "placeholder": "​",
            "style": "IPY_MODEL_dd11658f0cb242d290b88c6ef9093e02",
            "value": " 4542/4542 [00:00&lt;00:00, 44861.82it/s]"
          }
        },
        "fe4c1a2501594b199c07d47bf97080a2": {
          "model_module": "@jupyter-widgets/base",
          "model_name": "LayoutModel",
          "model_module_version": "1.2.0",
          "state": {
            "_model_module": "@jupyter-widgets/base",
            "_model_module_version": "1.2.0",
            "_model_name": "LayoutModel",
            "_view_count": null,
            "_view_module": "@jupyter-widgets/base",
            "_view_module_version": "1.2.0",
            "_view_name": "LayoutView",
            "align_content": null,
            "align_items": null,
            "align_self": null,
            "border": null,
            "bottom": null,
            "display": null,
            "flex": null,
            "flex_flow": null,
            "grid_area": null,
            "grid_auto_columns": null,
            "grid_auto_flow": null,
            "grid_auto_rows": null,
            "grid_column": null,
            "grid_gap": null,
            "grid_row": null,
            "grid_template_areas": null,
            "grid_template_columns": null,
            "grid_template_rows": null,
            "height": null,
            "justify_content": null,
            "justify_items": null,
            "left": null,
            "margin": null,
            "max_height": null,
            "max_width": null,
            "min_height": null,
            "min_width": null,
            "object_fit": null,
            "object_position": null,
            "order": null,
            "overflow": null,
            "overflow_x": null,
            "overflow_y": null,
            "padding": null,
            "right": null,
            "top": null,
            "visibility": null,
            "width": null
          }
        },
        "bd4ad45c623747b4a64cad8e370db1cd": {
          "model_module": "@jupyter-widgets/base",
          "model_name": "LayoutModel",
          "model_module_version": "1.2.0",
          "state": {
            "_model_module": "@jupyter-widgets/base",
            "_model_module_version": "1.2.0",
            "_model_name": "LayoutModel",
            "_view_count": null,
            "_view_module": "@jupyter-widgets/base",
            "_view_module_version": "1.2.0",
            "_view_name": "LayoutView",
            "align_content": null,
            "align_items": null,
            "align_self": null,
            "border": null,
            "bottom": null,
            "display": null,
            "flex": null,
            "flex_flow": null,
            "grid_area": null,
            "grid_auto_columns": null,
            "grid_auto_flow": null,
            "grid_auto_rows": null,
            "grid_column": null,
            "grid_gap": null,
            "grid_row": null,
            "grid_template_areas": null,
            "grid_template_columns": null,
            "grid_template_rows": null,
            "height": null,
            "justify_content": null,
            "justify_items": null,
            "left": null,
            "margin": null,
            "max_height": null,
            "max_width": null,
            "min_height": null,
            "min_width": null,
            "object_fit": null,
            "object_position": null,
            "order": null,
            "overflow": null,
            "overflow_x": null,
            "overflow_y": null,
            "padding": null,
            "right": null,
            "top": null,
            "visibility": null,
            "width": null
          }
        },
        "2b2d6c2df6904b56840cd851de436fe4": {
          "model_module": "@jupyter-widgets/controls",
          "model_name": "DescriptionStyleModel",
          "model_module_version": "1.5.0",
          "state": {
            "_model_module": "@jupyter-widgets/controls",
            "_model_module_version": "1.5.0",
            "_model_name": "DescriptionStyleModel",
            "_view_count": null,
            "_view_module": "@jupyter-widgets/base",
            "_view_module_version": "1.2.0",
            "_view_name": "StyleView",
            "description_width": ""
          }
        },
        "cbe97d2cc61b45c393afe6dbbde9d90d": {
          "model_module": "@jupyter-widgets/base",
          "model_name": "LayoutModel",
          "model_module_version": "1.2.0",
          "state": {
            "_model_module": "@jupyter-widgets/base",
            "_model_module_version": "1.2.0",
            "_model_name": "LayoutModel",
            "_view_count": null,
            "_view_module": "@jupyter-widgets/base",
            "_view_module_version": "1.2.0",
            "_view_name": "LayoutView",
            "align_content": null,
            "align_items": null,
            "align_self": null,
            "border": null,
            "bottom": null,
            "display": null,
            "flex": null,
            "flex_flow": null,
            "grid_area": null,
            "grid_auto_columns": null,
            "grid_auto_flow": null,
            "grid_auto_rows": null,
            "grid_column": null,
            "grid_gap": null,
            "grid_row": null,
            "grid_template_areas": null,
            "grid_template_columns": null,
            "grid_template_rows": null,
            "height": null,
            "justify_content": null,
            "justify_items": null,
            "left": null,
            "margin": null,
            "max_height": null,
            "max_width": null,
            "min_height": null,
            "min_width": null,
            "object_fit": null,
            "object_position": null,
            "order": null,
            "overflow": null,
            "overflow_x": null,
            "overflow_y": null,
            "padding": null,
            "right": null,
            "top": null,
            "visibility": null,
            "width": null
          }
        },
        "405f86d392a94153abd9e64a0b32d1f3": {
          "model_module": "@jupyter-widgets/controls",
          "model_name": "ProgressStyleModel",
          "model_module_version": "1.5.0",
          "state": {
            "_model_module": "@jupyter-widgets/controls",
            "_model_module_version": "1.5.0",
            "_model_name": "ProgressStyleModel",
            "_view_count": null,
            "_view_module": "@jupyter-widgets/base",
            "_view_module_version": "1.2.0",
            "_view_name": "StyleView",
            "bar_color": null,
            "description_width": ""
          }
        },
        "2b85fb3114c84892863cee5f62c8fdbe": {
          "model_module": "@jupyter-widgets/base",
          "model_name": "LayoutModel",
          "model_module_version": "1.2.0",
          "state": {
            "_model_module": "@jupyter-widgets/base",
            "_model_module_version": "1.2.0",
            "_model_name": "LayoutModel",
            "_view_count": null,
            "_view_module": "@jupyter-widgets/base",
            "_view_module_version": "1.2.0",
            "_view_name": "LayoutView",
            "align_content": null,
            "align_items": null,
            "align_self": null,
            "border": null,
            "bottom": null,
            "display": null,
            "flex": null,
            "flex_flow": null,
            "grid_area": null,
            "grid_auto_columns": null,
            "grid_auto_flow": null,
            "grid_auto_rows": null,
            "grid_column": null,
            "grid_gap": null,
            "grid_row": null,
            "grid_template_areas": null,
            "grid_template_columns": null,
            "grid_template_rows": null,
            "height": null,
            "justify_content": null,
            "justify_items": null,
            "left": null,
            "margin": null,
            "max_height": null,
            "max_width": null,
            "min_height": null,
            "min_width": null,
            "object_fit": null,
            "object_position": null,
            "order": null,
            "overflow": null,
            "overflow_x": null,
            "overflow_y": null,
            "padding": null,
            "right": null,
            "top": null,
            "visibility": null,
            "width": null
          }
        },
        "dd11658f0cb242d290b88c6ef9093e02": {
          "model_module": "@jupyter-widgets/controls",
          "model_name": "DescriptionStyleModel",
          "model_module_version": "1.5.0",
          "state": {
            "_model_module": "@jupyter-widgets/controls",
            "_model_module_version": "1.5.0",
            "_model_name": "DescriptionStyleModel",
            "_view_count": null,
            "_view_module": "@jupyter-widgets/base",
            "_view_module_version": "1.2.0",
            "_view_name": "StyleView",
            "description_width": ""
          }
        }
      }
    }
  },
  "nbformat": 4,
  "nbformat_minor": 5
}